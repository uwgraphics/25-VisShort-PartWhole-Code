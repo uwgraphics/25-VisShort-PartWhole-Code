{
 "cells": [
  {
   "cell_type": "code",
   "execution_count": 1,
   "id": "6307a3b0",
   "metadata": {
    "vscode": {
     "languageId": "r"
    }
   },
   "outputs": [
    {
     "name": "stderr",
     "output_type": "stream",
     "text": [
      "\n",
      "Attaching package: ‘dplyr’\n",
      "\n",
      "\n",
      "The following objects are masked from ‘package:stats’:\n",
      "\n",
      "    filter, lag\n",
      "\n",
      "\n",
      "The following objects are masked from ‘package:base’:\n",
      "\n",
      "    intersect, setdiff, setequal, union\n",
      "\n",
      "\n",
      "Loading required package: lme4\n",
      "\n",
      "Loading required package: Matrix\n",
      "\n",
      "\n",
      "Attaching package: ‘lmerTest’\n",
      "\n",
      "\n",
      "The following object is masked from ‘package:lme4’:\n",
      "\n",
      "    lmer\n",
      "\n",
      "\n",
      "The following object is masked from ‘package:stats’:\n",
      "\n",
      "    step\n",
      "\n",
      "\n",
      "Welcome to emmeans.\n",
      "Caution: You lose important information if you filter this package's results.\n",
      "See '? untidy'\n",
      "\n"
     ]
    }
   ],
   "source": [
    "# --- Import Libraries ---------------------------------------------------------\n",
    "library(ggplot2)\n",
    "library(ggdist)\n",
    "library(patchwork)\n",
    "library(dplyr)\n",
    "library(Cairo)\n",
    "library(glmmTMB)\n",
    "library(lmerTest)\n",
    "library(emmeans)"
   ]
  },
  {
   "cell_type": "code",
   "execution_count": null,
   "id": "735c6b4a",
   "metadata": {
    "vscode": {
     "languageId": "r"
    }
   },
   "outputs": [],
   "source": [
    "# --- Load Data ------------------------------------------------------------------\n",
    "data <- read.csv(\"data/fullResults.csv\", header = TRUE)\n",
    "\n",
    "# Create binary anchor and alignment labels\n",
    "data <- data %>%\n",
    "  mutate(\n",
    "    anchor = ifelse(anchorCategory == \"anchor\", \"anchor\", \"non-anchor\"),\n",
    "    alignment = ifelse(alignmentCategory == \"aligned\", \"aligned\", \"unaligned\")\n",
    "  )\n",
    "\n",
    "# Create anchorType (special anchors 25 and 50)\n",
    "data <- data %>%\n",
    "  mutate(anchorType = case_when(\n",
    "    selectedPart == 25 ~ \"25\",\n",
    "    selectedPart == 50 ~ \"50\",\n",
    "    TRUE ~ \"non-anchor\"\n",
    "  ))\n",
    "\n",
    "# Factorize main grouping variables\n",
    "data$alignment <- factor(data$alignment, levels = c(\"aligned\", \"unaligned\"))\n",
    "data$anchor <- factor(data$anchor, levels = c(\"anchor\", \"non-anchor\"))\n",
    "data$chartType <- factor(data$chartType, levels = c(\"pie\", \"line\"))\n",
    "\n",
    "# Relabel factor levels for pretty plotting\n",
    "levels(data$alignment) <- c(\"Aligned\", \"Unaligned\")\n",
    "levels(data$anchor) <- c(\"Anchor\", \"Non-Anchor\")\n",
    "levels(data$chartType) <- c(\"Pie\", \"Stacked Bar\")\n",
    "\n",
    "# Create numeric contrast-coded variables for modeling\n",
    "data <- data %>%\n",
    "  mutate(\n",
    "    alignment_num = ifelse(alignment == \"Aligned\", -1, 1),\n",
    "    anchor_num = ifelse(anchor == \"Anchor\", -1, 1),\n",
    "    chartType_num = ifelse(chartType == \"Pie\", -1, 1)\n",
    "  )\n",
    "\n",
    "# Factorize detailed categories (alignmentCategory, anchorCategory)\n",
    "data$alignmentCategory <- factor(data$alignmentCategory, levels = c(\"aligned\", \"near-aligned\", \"far-from-aligned\"))\n",
    "levels(data$alignmentCategory) <- c(\"Aligned\", \"Near Aligned\", \"Far from Aligned\")\n",
    "\n",
    "data$anchorCategory <- factor(data$anchorCategory, levels = c(\"anchor\", \"near-anchor\", \"far-anchor\"))\n",
    "levels(data$anchorCategory) <- c(\"Anchor\", \"Near Anchor\", \"Far from Anchor\")\n",
    "\n",
    "# Calculate rounding variables\n",
    "data$distToNearest5 <- abs(data$selectedPart - round(data$selectedPart / 5) * 5)\n",
    "data$distToNearest10 <- abs(data$selectedPart - round(data$selectedPart / 10) * 10)"
   ]
  },
  {
   "cell_type": "code",
   "execution_count": null,
   "id": "f5acf43d",
   "metadata": {
    "vscode": {
     "languageId": "r"
    }
   },
   "outputs": [],
   "source": [
    "# --- Define Constants ---------------------------------------------------------\n",
    "blue <- \"#336199\"\n",
    "lightblue <- \"#5688C7\"\n",
    "red <- \"#E74236\"\n",
    "lightred <- \"#EE766D\"\n",
    "green <- \"#00A35F\"\n",
    "lightgreen <- \"#0ACC7B\"\n",
    "\n",
    "lisAbsError <- c(-0.5, 10.5)\n",
    "size <- 0.5\n",
    "baseSize <- 28\n",
    "timeLims = c(0, 15)\n",
    "errorLims = c(-0.5, 10.5)\n",
    "\n",
    "breaksAbsError <- seq(floor(min(data$absError)) - 0.5, ceiling(max(data$absError)) + 0.5, by = 1)"
   ]
  },
  {
   "cell_type": "code",
   "execution_count": 4,
   "id": "0de58292",
   "metadata": {
    "vscode": {
     "languageId": "r"
    }
   },
   "outputs": [
    {
     "data": {
      "text/plain": [
       " Family: nbinom2  ( log )\n",
       "Formula:          absError ~ chartType_num * anchor_num * alignment_num + (1 +  \n",
       "    anchor_num + alignment_num + chartType_num | userID)\n",
       "Data: data\n",
       "\n",
       "      AIC       BIC    logLik -2*log(L)  df.resid \n",
       "  23202.9   23328.9  -11582.5   23164.9      5593 \n",
       "\n",
       "Random effects:\n",
       "\n",
       "Conditional model:\n",
       " Groups Name          Variance Std.Dev. Corr              \n",
       " userID (Intercept)   0.49225  0.7016                     \n",
       "        anchor_num    0.13723  0.3704   -0.92             \n",
       "        alignment_num 0.01488  0.1220   -0.69  0.52       \n",
       "        chartType_num 0.01849  0.1360    0.18 -0.19 -0.35 \n",
       "Number of obs: 5612, groups:  userID, 60\n",
       "\n",
       "Dispersion parameter for nbinom2 family (): 1.89 \n",
       "\n",
       "Conditional model:\n",
       "                                        Estimate Std. Error z value Pr(>|z|)\n",
       "(Intercept)                             0.266751   0.097208   2.744  0.00607\n",
       "chartType_num                           0.041128   0.034461   1.193  0.23269\n",
       "anchor_num                              0.643684   0.059232  10.867  < 2e-16\n",
       "alignment_num                           0.359225   0.034419  10.437  < 2e-16\n",
       "chartType_num:anchor_num                0.011710   0.029367   0.399  0.69009\n",
       "chartType_num:alignment_num             0.006722   0.029005   0.232  0.81672\n",
       "anchor_num:alignment_num               -0.171386   0.030082  -5.697 1.22e-08\n",
       "chartType_num:anchor_num:alignment_num  0.020705   0.028867   0.717  0.47321\n",
       "                                          \n",
       "(Intercept)                            ** \n",
       "chartType_num                             \n",
       "anchor_num                             ***\n",
       "alignment_num                          ***\n",
       "chartType_num:anchor_num                  \n",
       "chartType_num:alignment_num               \n",
       "anchor_num:alignment_num               ***\n",
       "chartType_num:anchor_num:alignment_num    \n",
       "---\n",
       "Signif. codes:  0 ‘***’ 0.001 ‘**’ 0.01 ‘*’ 0.05 ‘.’ 0.1 ‘ ’ 1"
      ]
     },
     "metadata": {},
     "output_type": "display_data"
    }
   ],
   "source": [
    "# --- Build Accuracy Model --------------------------------------------------------------\n",
    "modelAccuracy <- glmmTMB(\n",
    "  absError ~ chartType_num * anchor_num * alignment_num +\n",
    "    (1 + anchor_num + alignment_num + chartType_num | userID),\n",
    "  data = data,\n",
    "  family = nbinom2(link = \"log\")\n",
    ")\n",
    "summary(modelAccuracy)"
   ]
  },
  {
   "cell_type": "code",
   "execution_count": 5,
   "id": "c2bd24e9",
   "metadata": {
    "vscode": {
     "languageId": "r"
    }
   },
   "outputs": [
    {
     "data": {
      "text/plain": [
       " Family: Gamma  ( log )\n",
       "Formula:          \n",
       "responseTime ~ chartType_num * anchor_num * alignment_num + (1 +  \n",
       "    anchor_num + alignment_num + chartType_num | userID)\n",
       "Data: data\n",
       "\n",
       "      AIC       BIC    logLik -2*log(L)  df.resid \n",
       "  27055.1   27181.1  -13508.5   27017.1      5593 \n",
       "\n",
       "Random effects:\n",
       "\n",
       "Conditional model:\n",
       " Groups Name          Variance  Std.Dev. Corr              \n",
       " userID (Intercept)   0.1248288 0.35331                    \n",
       "        anchor_num    0.0019921 0.04463   0.12             \n",
       "        alignment_num 0.0007469 0.02733   0.31 -0.44       \n",
       "        chartType_num 0.0033118 0.05755   0.16  0.35  0.04 \n",
       "Number of obs: 5612, groups:  userID, 60\n",
       "\n",
       "Dispersion estimate for Gamma family (sigma^2): 0.147 \n",
       "\n",
       "Conditional model:\n",
       "                                         Estimate Std. Error z value Pr(>|z|)\n",
       "(Intercept)                             1.8728939  0.0463525   40.41  < 2e-16\n",
       "chartType_num                           0.0008645  0.0110938    0.08  0.93788\n",
       "anchor_num                              0.1137857  0.0100649   11.31  < 2e-16\n",
       "alignment_num                           0.0447381  0.0089718    4.99 6.15e-07\n",
       "chartType_num:anchor_num                0.0022411  0.0082407    0.27  0.78566\n",
       "chartType_num:alignment_num             0.0076082  0.0082410    0.92  0.35589\n",
       "anchor_num:alignment_num               -0.0234473  0.0082497   -2.84  0.00448\n",
       "chartType_num:anchor_num:alignment_num -0.0107225  0.0082441   -1.30  0.19339\n",
       "                                          \n",
       "(Intercept)                            ***\n",
       "chartType_num                             \n",
       "anchor_num                             ***\n",
       "alignment_num                          ***\n",
       "chartType_num:anchor_num                  \n",
       "chartType_num:alignment_num               \n",
       "anchor_num:alignment_num               ** \n",
       "chartType_num:anchor_num:alignment_num    \n",
       "---\n",
       "Signif. codes:  0 ‘***’ 0.001 ‘**’ 0.01 ‘*’ 0.05 ‘.’ 0.1 ‘ ’ 1"
      ]
     },
     "metadata": {},
     "output_type": "display_data"
    }
   ],
   "source": [
    "# --- Build Speed Model --------------------------------------------------------------\n",
    "modelSpeed <- glmmTMB(\n",
    "  responseTime ~ chartType_num * anchor_num * alignment_num +\n",
    "    (1 + anchor_num + alignment_num + chartType_num | userID),\n",
    "  data = data,\n",
    "  family = Gamma(link = \"log\")\n",
    ")\n",
    "summary(modelSpeed)"
   ]
  },
  {
   "cell_type": "code",
   "execution_count": null,
   "id": "3e830900",
   "metadata": {
    "vscode": {
     "languageId": "r"
    }
   },
   "outputs": [],
   "source": [
    "# --- Predict from Model -------------------------------------------------------\n",
    "predsAccuracy <- as.data.frame(emmeans(modelAccuracy, ~ alignment_num * anchor_num * chartType_num))\n",
    "predsSpeed <- as.data.frame(emmeans(modelSpeed, ~ alignment_num * anchor_num * chartType_num))"
   ]
  },
  {
   "cell_type": "code",
   "execution_count": null,
   "id": "12535933",
   "metadata": {
    "vscode": {
     "languageId": "r"
    }
   },
   "outputs": [
    {
     "ename": "",
     "evalue": "",
     "output_type": "error",
     "traceback": [
      "\u001b[1;31mThe Kernel crashed while executing code in the current cell or a previous cell. \n",
      "\u001b[1;31mPlease review the code in the cell(s) to identify a possible cause of the failure. \n",
      "\u001b[1;31mClick <a href='https://aka.ms/vscodeJupyterKernelCrash'>here</a> for more info. \n",
      "\u001b[1;31mView Jupyter <a href='command:jupyter.viewOutput'>log</a> for further details."
     ]
    }
   ],
   "source": [
    "make_plot <- function(data, preds_df, chart_type, xvar, xlims, adjust_val = 1.5) {\n",
    "  preds_df <- preds_df %>%\n",
    "    mutate(\n",
    "      alignment = ifelse(alignment_num == -1, \"Aligned\", \"Unaligned\"),\n",
    "      anchor = ifelse(anchor_num == -1, \"Anchor\", \"Non-Anchor\"),\n",
    "      chartType = ifelse(chartType_num == -1, \"Pie\", \"Stacked Bar\")\n",
    "    )\n",
    "  \n",
    "  # Filter data and predictions\n",
    "  plot_data <- data %>% filter(chartType == chart_type)\n",
    "  preds_data <- preds_df %>% filter(chartType == chart_type)\n",
    "  \n",
    "  # Choose raw-data slab type\n",
    "  slab_layer <- if (xvar == \"absError\") {\n",
    "    stat_histinterval(\n",
    "      breaks = breaksAbsError,\n",
    "      slab_alpha = 0.5,\n",
    "      point_alpha = 0,\n",
    "      interval_alpha = 0,\n",
    "      color = green,\n",
    "      fill = lightgreen,\n",
    "      height = 0.95\n",
    "    )\n",
    "  } else {\n",
    "    stat_halfeye(\n",
    "      slab_alpha = 0.5,\n",
    "      point_size = 3,\n",
    "      point_alpha = 0,\n",
    "      interval_alpha = 0,\n",
    "      color = green,\n",
    "      fill = lightgreen,\n",
    "      adjust = adjust_val,\n",
    "      height = 0.95\n",
    "    )\n",
    "  }\n",
    "  \n",
    "  # Build plot\n",
    "  p <- ggplot(\n",
    "    plot_data,\n",
    "    aes(\n",
    "      y = interaction(alignment, anchor, sep = \" + \"),\n",
    "      x = .data[[xvar]]\n",
    "    )\n",
    "  ) +\n",
    "    slab_layer +\n",
    "    geom_segment(\n",
    "      data = preds_data,\n",
    "      aes(\n",
    "        y = interaction(alignment, anchor, sep = \" + \"),\n",
    "        yend = interaction(alignment, anchor, sep = \" + \"),\n",
    "        x = exp(asymp.LCL),\n",
    "        xend = exp(asymp.UCL)\n",
    "      ),\n",
    "      color = green,\n",
    "      linewidth = 2,\n",
    "      inherit.aes = FALSE\n",
    "    ) +\n",
    "    geom_line(\n",
    "      data = preds_data,\n",
    "      aes(\n",
    "        y = interaction(alignment, anchor, sep = \" + \"),\n",
    "        x = exp(emmean),\n",
    "        group = 1\n",
    "      ),\n",
    "      color = green,\n",
    "      linewidth = 1.5,\n",
    "      inherit.aes = FALSE\n",
    "    ) +\n",
    "    theme_minimal(base_size = baseSize) +\n",
    "    coord_cartesian(xlim = xlims) +\n",
    "    scale_y_discrete(expand = expansion(mult = c(0, 0))) +\n",
    "    labs(\n",
    "      y = NULL,\n",
    "      x = ifelse(xvar == \"absError\", \"Absolute Error\", \"Response Time (s)\")\n",
    "    )\n",
    "  \n",
    "  # Only adjust axis ticks if absError\n",
    "  if (xvar == \"absError\") {\n",
    "    p <- p + scale_x_continuous(breaks = c(0, 5, 10))  # only label 0, 5, 10\n",
    "  }\n",
    "  \n",
    "  return(p)\n",
    "}"
   ]
  },
  {
   "cell_type": "code",
   "execution_count": null,
   "id": "d084c93d",
   "metadata": {
    "vscode": {
     "languageId": "r"
    }
   },
   "outputs": [
    {
     "data": {
      "text/html": [
       "<strong>pdf:</strong> 2"
      ],
      "text/latex": [
       "\\textbf{pdf:} 2"
      ],
      "text/markdown": [
       "**pdf:** 2"
      ],
      "text/plain": [
       "pdf \n",
       "  2 "
      ]
     },
     "metadata": {},
     "output_type": "display_data"
    }
   ],
   "source": [
    "accuracyPie <- make_plot(data, predsAccuracy, chart_type = \"Pie\", xvar = \"absError\", xlims = errorLims)\n",
    "speedPie    <- make_plot(data, predsSpeed, chart_type = \"Pie\", xvar = \"responseTime\", xlims = timeLims)\n",
    "accuracyLine <- make_plot(data, predsAccuracy, chart_type = \"Stacked Bar\", xvar = \"absError\", xlims = errorLims)\n",
    "speedLine    <- make_plot(data, predsSpeed, chart_type = \"Stacked Bar\", xvar = \"responseTime\", xlims = timeLims)\n",
    "\n",
    "width <- unit(6.66, \"in\")\n",
    "height <- unit(2.33, \"in\")\n",
    "options(repr.plot.width = width, repr.plot.height = height)\n",
    "\n",
    "speedPie <- speedPie + theme(\n",
    "  axis.title.y = element_blank(),\n",
    "  axis.text.y = element_blank(),\n",
    "  axis.ticks.y = element_blank()\n",
    ")\n",
    "speedLine <- speedLine + theme(\n",
    "  axis.title.y = element_blank(),\n",
    "  axis.text.y = element_blank(),\n",
    "  axis.ticks.y = element_blank()\n",
    ")\n",
    "\n",
    "# Build your full plot\n",
    "full_plot <- accuracyPie + speedPie + accuracyLine + speedLine +\n",
    "  plot_layout(guides = \"collect\", ncol = 4)\n",
    "\n",
    "# Open SVG device\n",
    "Cairo::CairoSVG(\"teaser.svg\", width = width, height = height)\n",
    "\n",
    "# Draw plot\n",
    "print(full_plot)\n",
    "\n",
    "# Close device\n",
    "dev.off()\n",
    "full_plot"
   ]
  },
  {
   "cell_type": "code",
   "execution_count": null,
   "id": "cb6099ee",
   "metadata": {
    "vscode": {
     "languageId": "r"
    }
   },
   "outputs": [],
   "source": []
  }
 ],
 "metadata": {
  "kernelspec": {
   "display_name": "R",
   "language": "R",
   "name": "ir"
  },
  "language_info": {
   "codemirror_mode": "r",
   "file_extension": ".r",
   "mimetype": "text/x-r-source",
   "name": "R",
   "pygments_lexer": "r",
   "version": "4.3.2"
  }
 },
 "nbformat": 4,
 "nbformat_minor": 5
}
